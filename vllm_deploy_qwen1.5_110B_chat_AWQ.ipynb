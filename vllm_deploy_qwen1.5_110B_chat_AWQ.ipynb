{
 "cells": [
  {
   "cell_type": "markdown",
   "id": "71a329f0",
   "metadata": {},
   "source": [
    "# vLLM Qwen1.5-72B-Chat-AWQ vLLM deployment guide\n",
    "In this tutorial, you will use LMI container from DLC to SageMaker and run inference with it.\n",
    "\n",
    "Please make sure the following permission granted before running the notebook:\n",
    "\n",
    "- S3 bucket push access\n",
    "- SageMaker access\n",
    "\n",
    "## Step 1: Let's bump up SageMaker and import stuff"
   ]
  },
  {
   "cell_type": "code",
   "execution_count": 20,
   "id": "67fa3208",
   "metadata": {
    "tags": []
   },
   "outputs": [
    {
     "name": "stdout",
     "output_type": "stream",
     "text": [
      "Note: you may need to restart the kernel to use updated packages.\n",
      "Requirement already satisfied: boto3==1.34.101 in /home/ec2-user/anaconda3/envs/pytorch_p310/lib/python3.10/site-packages (1.34.101)\n",
      "Requirement already satisfied: botocore<1.35.0,>=1.34.101 in /home/ec2-user/anaconda3/envs/pytorch_p310/lib/python3.10/site-packages (from boto3==1.34.101) (1.34.109)\n",
      "Requirement already satisfied: jmespath<2.0.0,>=0.7.1 in /home/ec2-user/anaconda3/envs/pytorch_p310/lib/python3.10/site-packages (from boto3==1.34.101) (1.0.1)\n",
      "Requirement already satisfied: s3transfer<0.11.0,>=0.10.0 in /home/ec2-user/anaconda3/envs/pytorch_p310/lib/python3.10/site-packages (from boto3==1.34.101) (0.10.0)\n",
      "Requirement already satisfied: python-dateutil<3.0.0,>=2.1 in /home/ec2-user/anaconda3/envs/pytorch_p310/lib/python3.10/site-packages (from botocore<1.35.0,>=1.34.101->boto3==1.34.101) (2.8.2)\n",
      "Requirement already satisfied: urllib3!=2.2.0,<3,>=1.25.4 in /home/ec2-user/anaconda3/envs/pytorch_p310/lib/python3.10/site-packages (from botocore<1.35.0,>=1.34.101->boto3==1.34.101) (1.26.18)\n",
      "Requirement already satisfied: six>=1.5 in /home/ec2-user/anaconda3/envs/pytorch_p310/lib/python3.10/site-packages (from python-dateutil<3.0.0,>=2.1->botocore<1.35.0,>=1.34.101->boto3==1.34.101) (1.16.0)\n",
      "Note: you may need to restart the kernel to use updated packages.\n"
     ]
    }
   ],
   "source": [
    "%pip install sagemaker --upgrade  --quiet\n",
    "%pip install boto3==1.34.101"
   ]
  },
  {
   "cell_type": "code",
   "execution_count": 21,
   "id": "ec9ac353",
   "metadata": {
    "tags": []
   },
   "outputs": [],
   "source": [
    "import boto3\n",
    "import sagemaker\n",
    "from sagemaker import Model, image_uris, serializers, deserializers\n",
    "\n",
    "role = sagemaker.get_execution_role()  # execution role for the endpoint\n",
    "sess = sagemaker.session.Session()  # sagemaker session for interacting with different AWS APIs\n",
    "region = sess._region_name  # region name of the current SageMaker Studio environment\n",
    "account_id = sess.account_id()  # account_id of the current SageMaker Studio environment"
   ]
  },
  {
   "cell_type": "markdown",
   "id": "81deac79",
   "metadata": {},
   "source": [
    "## Step 2: Start preparing model artifacts\n",
    "In LMI contianer, we expect some artifacts to help setting up the model\n",
    "- serving.properties (required): Defines the model server settings\n",
    "- model.py (optional): A python file to define the core inference logic\n",
    "- requirements.txt (optional): Any additional pip wheel need to install"
   ]
  },
  {
   "cell_type": "code",
   "execution_count": 22,
   "id": "b011bf5f",
   "metadata": {
    "tags": []
   },
   "outputs": [
    {
     "name": "stdout",
     "output_type": "stream",
     "text": [
      "Writing serving.properties\n"
     ]
    }
   ],
   "source": [
    "%%writefile serving.properties\n",
    "engine=Python\n",
    "option.model_id=Qwen/Qwen1.5-110B-Chat-AWQ\n",
    "option.task=text-generation\n",
    "option.trust_remote_code=true\n",
    "option.tensor_parallel_degree=8\n",
    "option.rolling_batch=vllm\n",
    "option.quantize=awq\n",
    "option.dtype=fp16\n",
    "option.max_model_len=10272"
   ]
  },
  {
   "cell_type": "code",
   "execution_count": 23,
   "id": "b0142973",
   "metadata": {
    "tags": []
   },
   "outputs": [
    {
     "name": "stdout",
     "output_type": "stream",
     "text": [
      "mymodel/\n",
      "mymodel/serving.properties\n"
     ]
    }
   ],
   "source": [
    "%%sh\n",
    "mkdir mymodel\n",
    "mv serving.properties mymodel/\n",
    "tar czvf mymodel.tar.gz mymodel/\n",
    "rm -rf mymodel"
   ]
  },
  {
   "cell_type": "markdown",
   "id": "2e58cf33",
   "metadata": {},
   "source": [
    "## Step 3: Start building SageMaker endpoint\n",
    "In this step, we will build SageMaker endpoint from scratch"
   ]
  },
  {
   "cell_type": "markdown",
   "id": "4d955679",
   "metadata": {},
   "source": [
    "### Getting the container image URI\n",
    "\n",
    "[Large Model Inference available DLC](https://github.com/aws/deep-learning-containers/blob/master/available_images.md#large-model-inference-containers)\n"
   ]
  },
  {
   "cell_type": "code",
   "execution_count": 24,
   "id": "7a174b36",
   "metadata": {
    "tags": []
   },
   "outputs": [],
   "source": [
    "image_uri = image_uris.retrieve(\n",
    "        framework=\"djl-deepspeed\",\n",
    "        region=sess.boto_session.region_name,\n",
    "        version=\"0.27.0\"\n",
    "    )"
   ]
  },
  {
   "cell_type": "markdown",
   "id": "11601839",
   "metadata": {},
   "source": [
    "### Upload artifact on S3 and create SageMaker model"
   ]
  },
  {
   "cell_type": "code",
   "execution_count": 25,
   "id": "38b1e5ca",
   "metadata": {
    "tags": []
   },
   "outputs": [
    {
     "name": "stdout",
     "output_type": "stream",
     "text": [
      "S3 Code or Model tar ball uploaded to --- > s3://sagemaker-us-east-1-475089398927/large-model-lmi/code-qwen1.5-110B-8GPU/mymodel.tar.gz\n"
     ]
    }
   ],
   "source": [
    "s3_code_prefix = \"large-model-lmi/code-qwen1.5-110B-8GPU\"\n",
    "bucket = sess.default_bucket()  # bucket to house artifacts\n",
    "code_artifact = sess.upload_data(\"mymodel.tar.gz\", bucket, s3_code_prefix)\n",
    "print(f\"S3 Code or Model tar ball uploaded to --- > {code_artifact}\")\n",
    "\n",
    "model = Model(image_uri=image_uri, model_data=code_artifact, role=role)"
   ]
  },
  {
   "cell_type": "markdown",
   "id": "004f39f6",
   "metadata": {},
   "source": [
    "### 4.2 Create SageMaker endpoint\n",
    "\n",
    "You need to specify the instance to use and endpoint names"
   ]
  },
  {
   "cell_type": "code",
   "execution_count": null,
   "id": "8e0e61cd",
   "metadata": {
    "tags": []
   },
   "outputs": [
    {
     "name": "stdout",
     "output_type": "stream",
     "text": [
      "--------------------!"
     ]
    }
   ],
   "source": [
    "instance_type = \"ml.g5.48xlarge\"\n",
    "endpoint_name = sagemaker.utils.name_from_base(\"lmi-model-qwen1-5-110B-8GPU\")\n",
    "\n",
    "model.deploy(initial_instance_count=1,\n",
    "             instance_type=instance_type,\n",
    "             endpoint_name=endpoint_name,\n",
    "             # container_startup_health_check_timeout=3600\n",
    "            )\n",
    "\n",
    "# our requests and responses will be in json format so we specify the serializer and the deserializer\n",
    "predictor = sagemaker.Predictor(\n",
    "    endpoint_name=endpoint_name,\n",
    "    sagemaker_session=sess,\n",
    "    serializer=serializers.JSONSerializer(),\n",
    "    deserializer=sagemaker.deserializers.JSONDeserializer(),\n",
    ")"
   ]
  },
  {
   "cell_type": "markdown",
   "id": "bb63ee65",
   "metadata": {},
   "source": [
    "## Step 5: Test and benchmark the inference"
   ]
  },
  {
   "cell_type": "code",
   "execution_count": 27,
   "id": "4ee11ce2-c488-42c5-89eb-df453878c245",
   "metadata": {
    "tags": []
   },
   "outputs": [
    {
     "name": "stdout",
     "output_type": "stream",
     "text": [
      "Requirement already satisfied: transformers in /home/ec2-user/anaconda3/envs/pytorch_p310/lib/python3.10/site-packages (4.41.0)\n",
      "Requirement already satisfied: filelock in /home/ec2-user/anaconda3/envs/pytorch_p310/lib/python3.10/site-packages (from transformers) (3.13.1)\n",
      "Requirement already satisfied: huggingface-hub<1.0,>=0.23.0 in /home/ec2-user/anaconda3/envs/pytorch_p310/lib/python3.10/site-packages (from transformers) (0.23.0)\n",
      "Requirement already satisfied: numpy>=1.17 in /home/ec2-user/anaconda3/envs/pytorch_p310/lib/python3.10/site-packages (from transformers) (1.26.3)\n",
      "Requirement already satisfied: packaging>=20.0 in /home/ec2-user/anaconda3/envs/pytorch_p310/lib/python3.10/site-packages (from transformers) (21.3)\n",
      "Requirement already satisfied: pyyaml>=5.1 in /home/ec2-user/anaconda3/envs/pytorch_p310/lib/python3.10/site-packages (from transformers) (6.0.1)\n",
      "Requirement already satisfied: regex!=2019.12.17 in /home/ec2-user/anaconda3/envs/pytorch_p310/lib/python3.10/site-packages (from transformers) (2024.5.15)\n",
      "Requirement already satisfied: requests in /home/ec2-user/anaconda3/envs/pytorch_p310/lib/python3.10/site-packages (from transformers) (2.31.0)\n",
      "Requirement already satisfied: tokenizers<0.20,>=0.19 in /home/ec2-user/anaconda3/envs/pytorch_p310/lib/python3.10/site-packages (from transformers) (0.19.1)\n",
      "Requirement already satisfied: safetensors>=0.4.1 in /home/ec2-user/anaconda3/envs/pytorch_p310/lib/python3.10/site-packages (from transformers) (0.4.3)\n",
      "Requirement already satisfied: tqdm>=4.27 in /home/ec2-user/anaconda3/envs/pytorch_p310/lib/python3.10/site-packages (from transformers) (4.66.1)\n",
      "Requirement already satisfied: fsspec>=2023.5.0 in /home/ec2-user/anaconda3/envs/pytorch_p310/lib/python3.10/site-packages (from huggingface-hub<1.0,>=0.23.0->transformers) (2023.12.2)\n",
      "Requirement already satisfied: typing-extensions>=3.7.4.3 in /home/ec2-user/anaconda3/envs/pytorch_p310/lib/python3.10/site-packages (from huggingface-hub<1.0,>=0.23.0->transformers) (4.9.0)\n",
      "Requirement already satisfied: pyparsing!=3.0.5,>=2.0.2 in /home/ec2-user/anaconda3/envs/pytorch_p310/lib/python3.10/site-packages (from packaging>=20.0->transformers) (3.1.1)\n",
      "Requirement already satisfied: charset-normalizer<4,>=2 in /home/ec2-user/anaconda3/envs/pytorch_p310/lib/python3.10/site-packages (from requests->transformers) (3.3.2)\n",
      "Requirement already satisfied: idna<4,>=2.5 in /home/ec2-user/anaconda3/envs/pytorch_p310/lib/python3.10/site-packages (from requests->transformers) (3.6)\n",
      "Requirement already satisfied: urllib3<3,>=1.21.1 in /home/ec2-user/anaconda3/envs/pytorch_p310/lib/python3.10/site-packages (from requests->transformers) (1.26.18)\n",
      "Requirement already satisfied: certifi>=2017.4.17 in /home/ec2-user/anaconda3/envs/pytorch_p310/lib/python3.10/site-packages (from requests->transformers) (2023.11.17)\n"
     ]
    }
   ],
   "source": [
    "!pip install transformers"
   ]
  },
  {
   "cell_type": "code",
   "execution_count": 28,
   "id": "aaae61f7-b669-4a02-97a9-85085db6632c",
   "metadata": {
    "tags": []
   },
   "outputs": [
    {
     "data": {
      "application/vnd.jupyter.widget-view+json": {
       "model_id": "56e9efed3a8f42469aea2bc9c6c5eefb",
       "version_major": 2,
       "version_minor": 0
      },
      "text/plain": [
       "tokenizer_config.json:   0%|          | 0.00/1.29k [00:00<?, ?B/s]"
      ]
     },
     "metadata": {},
     "output_type": "display_data"
    },
    {
     "data": {
      "application/vnd.jupyter.widget-view+json": {
       "model_id": "abbc872b272b4b1693d4d53980286adb",
       "version_major": 2,
       "version_minor": 0
      },
      "text/plain": [
       "vocab.json:   0%|          | 0.00/2.78M [00:00<?, ?B/s]"
      ]
     },
     "metadata": {},
     "output_type": "display_data"
    },
    {
     "data": {
      "application/vnd.jupyter.widget-view+json": {
       "model_id": "a99e77742dea4d609bc06962303be8fa",
       "version_major": 2,
       "version_minor": 0
      },
      "text/plain": [
       "merges.txt:   0%|          | 0.00/1.67M [00:00<?, ?B/s]"
      ]
     },
     "metadata": {},
     "output_type": "display_data"
    },
    {
     "data": {
      "application/vnd.jupyter.widget-view+json": {
       "model_id": "1ddb87bd4e564a3498c0526fbb1a99db",
       "version_major": 2,
       "version_minor": 0
      },
      "text/plain": [
       "tokenizer.json:   0%|          | 0.00/7.03M [00:00<?, ?B/s]"
      ]
     },
     "metadata": {},
     "output_type": "display_data"
    },
    {
     "name": "stderr",
     "output_type": "stream",
     "text": [
      "Special tokens have been added in the vocabulary, make sure the associated word embeddings are fine-tuned or trained.\n"
     ]
    }
   ],
   "source": [
    "from transformers import AutoTokenizer\n",
    "\n",
    "MODEL_DIR = \"Qwen/Qwen1.5-110B-Chat-AWQ\"\n",
    "# model = AutoModelForCausalLM.from_pretrained(MODEL_DIR, torch_dtype=\"auto\")\n",
    "tokenizer = AutoTokenizer.from_pretrained(MODEL_DIR, use_fast=False)"
   ]
  },
  {
   "cell_type": "code",
   "execution_count": 29,
   "id": "2bcef095",
   "metadata": {
    "tags": []
   },
   "outputs": [
    {
     "name": "stdout",
     "output_type": "stream",
     "text": [
      "{'generated_text': '世界前十大高峰依次是：珠穆朗玛峰、喜马拉雅山、洛子峰、马卡鲁峰、乔戈里峰、卓奥友峰、道拉吉利峰、马纳斯卢峰、南伽帕尔巴特峰和安纳普尔那峰。这些山峰都位于亚洲的喜马拉雅山脉和喀喇昆仑山脉，其中珠穆朗玛峰是世界最高峰，位于中国与尼泊尔边境上。'}\n"
     ]
    }
   ],
   "source": [
    "prompt = \"列出世界前十大高峰？\"\n",
    "messages = [\n",
    "    {\"role\": \"system\", \"content\": \"You are a helpful assistant.\"},\n",
    "    {\"role\": \"user\", \"content\": prompt}\n",
    "]\n",
    "inputs = tokenizer.apply_chat_template(\n",
    "    messages,\n",
    "    tokenize=False,\n",
    "    add_generation_prompt=True\n",
    ")\n",
    "parameters = {\n",
    "        \"max_new_tokens\":1024, \n",
    "        \"do_sample\": True,\n",
    "        \"stop_token_ids\":[151645,151643],\n",
    "        \"repetition_penalty\": 1.05,\n",
    "        \"temperature\": 0.7,\n",
    "        \"top_p\": 0.8,\n",
    "        \"top_k\": 20\n",
    "    }\n",
    "response = predictor.predict(\n",
    "    {\"inputs\": inputs, \"parameters\": parameters}\n",
    ")\n",
    "# text = str(response, \"utf-8\")\n",
    "print(response)"
   ]
  },
  {
   "cell_type": "markdown",
   "id": "95732e49-db07-4de2-ae1d-8ed96e95f056",
   "metadata": {},
   "source": [
    "# Streaming"
   ]
  },
  {
   "cell_type": "code",
   "execution_count": 30,
   "id": "11c67435-fc81-42ae-85c5-608a9eb0e366",
   "metadata": {
    "tags": []
   },
   "outputs": [],
   "source": [
    "import json\n",
    "import boto3\n",
    "\n",
    "smr_client = boto3.client(\"sagemaker-runtime\")"
   ]
  },
  {
   "cell_type": "code",
   "execution_count": 31,
   "id": "2cae82c8-c390-4d70-ac18-f1d71c852727",
   "metadata": {
    "tags": []
   },
   "outputs": [],
   "source": [
    "import io\n",
    "import json\n",
    "\n",
    "class TokenIterator:\n",
    "    def __init__(self, stream):\n",
    "        self.byte_iterator = iter(stream)\n",
    "        self.buffer = io.BytesIO()\n",
    "        self.read_pos = 0\n",
    "\n",
    "    def __iter__(self):\n",
    "        return self\n",
    "\n",
    "    def __next__(self):\n",
    "        while True:\n",
    "            self.buffer.seek(self.read_pos)\n",
    "            line = self.buffer.readline()\n",
    "            \n",
    "            # print(line)\n",
    "            if line and line[-1] == ord(\"\\n\"):\n",
    "                self.read_pos += len(line)\n",
    "                full_line = line[:-1].decode(\"utf-8\")\n",
    "                # print(full_line)\n",
    "                line_data = json.loads(full_line.lstrip(\"data:\").rstrip(\"/n\"))\n",
    "                return line_data[\"token\"].get(\"text\", \"\")\n",
    "            chunk = next(self.byte_iterator)\n",
    "            self.buffer.seek(0, io.SEEK_END)\n",
    "            self.buffer.write(chunk[\"PayloadPart\"][\"Bytes\"])\n",
    "        \n",
    "def get_realtime_response_stream(sagemaker_runtime, endpoint_name, payload):\n",
    "    response_stream = sagemaker_runtime.invoke_endpoint_with_response_stream(\n",
    "        EndpointName=endpoint_name,\n",
    "        Body=json.dumps(payload),\n",
    "        ContentType=\"application/json\",\n",
    "        CustomAttributes='accept_eula=false'\n",
    "    )\n",
    "    return response_stream"
   ]
  },
  {
   "cell_type": "code",
   "execution_count": 36,
   "id": "c16918d8-35d9-4b56-ad50-73f7ab858a1e",
   "metadata": {
    "tags": []
   },
   "outputs": [
    {
     "name": "stdout",
     "output_type": "stream",
     "text": [
      "你是一个经验丰富的医疗方面文章的信息抽取专家，你可以从一篇网页中抽取出谭鹏程医生的姓名，性别，医院，科室，职称，学术头衔，行政职务\n",
      "\n",
      "输出的格式为: \n",
      "{'姓名': 'XX', '医院': 'xx', '性别': 'XX', '科室': 'XX', '职称': 'XX', '学术头衔': 'XX', '行政职务': 'XX'} \n",
      "如果在网页信息中没有发现谭鹏程医生的任何信息, 输出的内容为: {'姓名': 查无此人, '医院': '查无此人', '性别': '查无此人', '科室': '查无此人', '职称': '查无此人', '学术头衔': '查无此人', '行政职务': '查无此人'}\n",
      "如果在网页信息中只包括谭鹏程医生的部分信息，在输出的对应字段后面输出\"未知\"\n",
      "不要输出任何其他内容，不要输出推理过程\n",
      "请提取谭鹏程医生的相关信息，包含谭鹏程医生的网页信息如下: \n",
      "内科系统-烟台市中医医院官方网站ENGLISH中文版专家介绍◌创伤显微外科、手足外科◌中医药预防保健中心◌莱山区扶正堂门诊部◌开发区扶正堂门诊部难治性肠癌、难治耐药性肿瘤、难治性肝胆胰恶性肿瘤的微创介入治疗及各实体肿瘤中西医结合综合治疗擅长中西医治疗各系统恶性肿瘤，如结直肠癌、胃癌、肺癌、乳腺癌、肝胆肿瘤、胰腺癌、前列腺癌、卵巢癌、子宫内膜癌、宫颈癌、小细胞癌、肉瘤等。尤擅长将特色中医和现代医学有机结合，中西医结合治疗肿瘤的不同阶段，针对肿瘤的癌前病变、术后促恢复、防复发转移、联合西医减毒增效、晚期肿瘤患者长期带瘤生存、提高生活质量、延长生存期等方面疗效显著。擅长肺癌、胃癌、结直肠癌、肝癌、乳腺癌、卵巢癌、胰腺癌等各系统恶性肿瘤的中西医结合诊疗及肿瘤的精准穿刺活检与介入治疗。临证诊疗中，秉承中西医结合优势互补原则，通过中医药与其他治癌手段综合有序的配合，以达到中西医结合防治肿瘤复发转移，增加放化疗、靶向治疗、免疫治疗等的疗效、减轻其毒性，延长生存期，提高生活质量的目的。擅于中西医结合治疗消化系统肿瘤、泌尿系统肿瘤、乳腺肿瘤、呼吸道肿瘤。善于中医药治疗临床常见病、多发病。在中医药配合手术、放化疗、靶向治疗等减毒增效、预防复发转移及中医药治疗晚期恶性肿瘤方面具有丰富的经验。擅长胃癌、肺癌、食管癌、肝癌、肠癌、乳腺癌、妇科肿瘤等的中西医结合治疗，尤其擅长以中医中药治疗化疗药物、靶向药物、免疫药物等抗肿瘤药物产生的各类不良反应。坚持中西医结合理念，擅长肺癌、胃癌、肝癌、肠癌、乳腺癌等各系统肿瘤的内科治疗及介入微创治疗，善于运用传统中医疗法改善肿瘤患者在治疗中的不良反应。擅长中西医结合治疗各种实体性肿瘤，如肺癌、乳腺癌、胃肠肿瘤、肾癌、膀胱癌、头颈部肿瘤、肝胆胰肿瘤及妇科肿瘤等恶性肿瘤的治疗，尤其精通中医辩证治癌、体质调理防癌及综合运用精准穿刺活检、肿瘤消融、介入治疗等微创诊疗技术。擅长胃癌、肺癌，食管癌、头颈部肿瘤，肝癌、乳腺癌、妇科肿瘤等各系统恶性肿瘤的中西医结合诊治，在中晚期胃癌疗效突出，研发胃癌一号，二号方，和系列外用方，三B期胃癌活过五年很多。运用中医药让晚期肿瘤病人长期带瘤生存，对肿瘤病人的消化不良，贫血，疲乏，疼痛，头晕等相关有很好的治疗效果。恰当应用化疗、靶向、免疫等现代西医治疗方法，处理好不良反应，精准治疗效果达到最佳。擅于中西医结合、中医内外治法相结合治疗呼吸系统肿瘤、消化系统肿瘤、妇科肿瘤、肝胆肿瘤，泌尿系统肿瘤等，并善用“中医三维立体疗法”治疗癌性胸腹水、癌性疼痛、癌性疲乏等肿瘤并发症，及防治术后、放化疗、靶向及免疫相关不良反应等。擅长头颈部癌、肺癌、胃癌、肠癌、肝癌、乳腺癌、妇科肿瘤、胰腺癌、前列腺癌、淋巴瘤等各系统恶性肿瘤的化疗、内分泌治疗、靶向治疗、免疫治疗、中药治疗，掌握在最适当的时机给予中西药治疗的结合，能够取得事半功倍的效果。擅长运用中医药的方法治疗放疗、化疗、靶向、免疫治疗引起的不良反应，擅长各系统良恶性肿瘤的穿刺活检技术、微波消融及化学消融术、放射性粒子植入术。擅长中西医结合治疗肺癌及消化道肿瘤擅长中西医结合治疗肺癌及乳腺癌等内科癌病，熟练掌握B超引导下的各种穿刺活检及肿瘤局部微创治疗技术。擅长中西医结合治疗消化道恶性肿瘤及血液系统相关疾病擅长利用中医经方治疗各系统恶性肿瘤的引起的痛疼，失眠，乏力，食欲减退，气短等各种临床症状及中西医结合治疗肿瘤，治疗因放化疗，靶向及免疫治疗引起的各种不良反应。擅长肺癌的规范化治疗熟练掌握常见肿瘤的诊治，如肺癌、胃癌、结直肠癌、乳腺癌、肝癌等，擅长中西医结合肿瘤的诊治和预防，及肿瘤治疗相关并发症的处理。熟练掌握常见肿瘤的诊治，如肺癌、胃癌、结肠癌、乳腺癌等，擅长中西医结合肿瘤的诊治和预防。擅长肺癌、乳腺癌、妇科肿瘤、消化系统肿瘤等瘤肿的中西医结合治疗，对中医治疗手术后及放化疗后的毒性反应颇有心得。尤其专攻肺癌的综合治疗以及肝癌介入消融及中医综合治疗。并擅长肝癌血管介入、各部位肿瘤穿刺活检技术、肿瘤的微波、化学、冷冻消融术、放射性粒子植入术、经皮肝穿刺胆道引流术等局部诊疗技术。中医内科学硕士，擅长运用《伤寒论》、《金匮要略》等中医经典方剂治疗临床常见病、多发病，尤其在运用中医经典方剂和中医扶正法治疗恶性肿瘤和西医手术、放化疗、靶向治疗等常见不良反应方面较有心得。--卫生统计局网站--烟台市企事业单位公开信息网站总服务台咨询电话：0535-6597085急救电话：0535-6597120总院地址：山东省烟台市幸福路39号  乘车路线：乘2路，16路，26路，37路，42路，48路，70路，80路，82路直达©COPYRIGHT烟台市中医医院 | SEO标签 营业执照京ICP备10002622号-38鲁公网安备37060202000379号右侧在线客服组件SAFCoolestv1.2设置面板ZRSSS-ATQH-IAAFE-ZFSSorry，当前栏目暂无内容！您可以查看其他栏目或返回 首页SVG图标库请自行添加图标，用div包起来，并命名使用\n"
     ]
    }
   ],
   "source": [
    "# 设定医生和信息\n",
    "doctorName = \"谭鹏程\"\n",
    "filePath = './信达HCPDCR-20240122-021-2.txt'\n",
    "with open(filePath, 'r', encoding='utf-8') as file:\n",
    "    # 读取文件内容\n",
    "    content = file.read()\n",
    "\n",
    "# 尝试将内容解码为UTF-8编码的字符串\n",
    "pageContent = content.encode('utf-8').decode('utf-8')\n",
    "\n",
    "prompt = f\"你是一个经验丰富的医疗方面文章的信息抽取专家，你可以从一篇网页中抽取出{doctorName}医生的姓名，性别，医院，科室，职称，学术头衔，行政职务\\n\"\n",
    "prompt += \"\\n输出的格式为: \\n{'姓名': 'XX', '医院': 'xx', '性别': 'XX', '科室': 'XX', '职称': 'XX', '学术头衔': 'XX', '行政职务': 'XX'} \"\n",
    "prompt += f\"\\n如果在网页信息中没有发现{doctorName}医生的任何信息, \"\n",
    "prompt += \"输出的内容为: {'姓名': 查无此人, '医院': '查无此人', '性别': '查无此人', '科室': '查无此人', '职称': '查无此人', '学术头衔': '查无此人', '行政职务': '查无此人'}\"\n",
    "prompt += f\"\\n如果在网页信息中只包括{doctorName}医生的部分信息，在输出的对应字段后面输出\\\"未知\\\"\"\n",
    "prompt += \"\\n不要输出任何其他内容，不要输出推理过程\"\n",
    "prompt += f\"\\n请提取{doctorName}医生的相关信息，包含{doctorName}医生的网页信息如下: \\n\"\n",
    "prompt += pageContent\n",
    "\n",
    "\n",
    "print (prompt)"
   ]
  },
  {
   "cell_type": "code",
   "execution_count": 37,
   "id": "45c848ea-abbb-4b99-ba57-05f633cdd663",
   "metadata": {
    "tags": []
   },
   "outputs": [
    {
     "name": "stdout",
     "output_type": "stream",
     "text": [
      "{'姓名': '谭鹏程', '医院': '烟台市中医医院', '性别': '未知', '科室': '未知', '职称': '未知', '学术头衔': '未知', '行政职务': '未知'}"
     ]
    }
   ],
   "source": [
    "# messages = [\n",
    "#     {\"role\": \"system\", \"content\": \"You are a helpful assistant.\"},\n",
    "#     {\"role\": \"user\", \"content\": prompt}\n",
    "# ]\n",
    "messages = [\n",
    "    {\"role\": \"system\", \"content\": \"You are a helpful assistant.\"},\n",
    "    {\"role\": \"user\", \"content\": prompt}\n",
    "]\n",
    "inputs = tokenizer.apply_chat_template(\n",
    "    messages,\n",
    "    tokenize=False,\n",
    "    add_generation_prompt=True\n",
    ")\n",
    "\n",
    "parameters = {\n",
    "        \"max_new_tokens\":1024, \n",
    "        \"do_sample\": True,\n",
    "        \"stop_token_ids\":[151645,151643],\n",
    "        \"repetition_penalty\": 1.05,\n",
    "        \"temperature\": 0.7,\n",
    "        \"top_p\": 0.8,\n",
    "        \"top_k\": 20,\n",
    "    }\n",
    "\n",
    "payload = {\n",
    "    \"inputs\":  inputs,\n",
    "    \"parameters\": parameters,\n",
    "    \"stream\": True ## <-- to have response stream.\n",
    "}\n",
    "response_stream = get_realtime_response_stream(smr_client, endpoint_name, payload)\n",
    "# print_response_stream(response_stream)\n",
    "for token in TokenIterator(response_stream[\"Body\"]):\n",
    "    # pass\n",
    "    print(token, end=\"\")"
   ]
  },
  {
   "cell_type": "code",
   "execution_count": 38,
   "id": "c9b94874-199c-4578-ae84-1f5ac2f4dfa8",
   "metadata": {
    "tags": []
   },
   "outputs": [
    {
     "name": "stdout",
     "output_type": "stream",
     "text": [
      "NVIDIA-SMI has failed because it couldn't communicate with the NVIDIA driver. Make sure that the latest NVIDIA driver is installed and running.\n",
      "\n"
     ]
    }
   ],
   "source": [
    "!nvidia-smi"
   ]
  },
  {
   "cell_type": "markdown",
   "id": "c1cd9042",
   "metadata": {},
   "source": [
    "## Clean up the environment"
   ]
  },
  {
   "cell_type": "code",
   "execution_count": null,
   "id": "3d674b41",
   "metadata": {
    "tags": []
   },
   "outputs": [],
   "source": [
    "sess.delete_endpoint(endpoint_name)\n",
    "sess.delete_endpoint_config(endpoint_name)\n",
    "model.delete_model()"
   ]
  }
 ],
 "metadata": {
  "kernelspec": {
   "display_name": "conda_pytorch_p310",
   "language": "python",
   "name": "conda_pytorch_p310"
  },
  "language_info": {
   "codemirror_mode": {
    "name": "ipython",
    "version": 3
   },
   "file_extension": ".py",
   "mimetype": "text/x-python",
   "name": "python",
   "nbconvert_exporter": "python",
   "pygments_lexer": "ipython3",
   "version": "3.10.13"
  }
 },
 "nbformat": 4,
 "nbformat_minor": 5
}
